{
 "cells": [
  {
   "cell_type": "code",
   "execution_count": 37,
   "id": "7f67d7fa",
   "metadata": {},
   "outputs": [],
   "source": [
    "from sqlalchemy import create_engine\n",
    "import pandas as pd\n",
    "from config import password"
   ]
  },
  {
   "cell_type": "code",
   "execution_count": 38,
   "id": "90ca45f8",
   "metadata": {},
   "outputs": [],
   "source": [
    "# create SQL database connection\n",
    "protocol = 'postgresql'\n",
    "username = 'postgres'\n",
    "password = password\n",
    "host = 'localhost'\n",
    "port = 5432\n",
    "database_name = 'project2'\n",
    "rds_connection_string = f'{protocol}://{username}:{password}@{host}:{port}/{database_name}'\n",
    "engine = create_engine(rds_connection_string)"
   ]
  },
  {
   "cell_type": "code",
   "execution_count": 7,
   "id": "99d7bd87",
   "metadata": {},
   "outputs": [
    {
     "data": {
      "text/plain": [
       "['weather', 'bikeshare']"
      ]
     },
     "execution_count": 7,
     "metadata": {},
     "output_type": "execute_result"
    }
   ],
   "source": [
    "# check for tables\n",
    "engine.table_names()"
   ]
  },
  {
   "cell_type": "code",
   "execution_count": 8,
   "id": "abc15a87",
   "metadata": {},
   "outputs": [],
   "source": [
    "# set path to weather data\n",
    "path = \"toronto_weather_df.csv\""
   ]
  },
  {
   "cell_type": "code",
   "execution_count": 10,
   "id": "ac5b00fa",
   "metadata": {},
   "outputs": [],
   "source": [
    "# read in csv file to dataframe\n",
    "weather = pd.read_csv(path)"
   ]
  },
  {
   "cell_type": "code",
   "execution_count": 12,
   "id": "7a4e31cd",
   "metadata": {},
   "outputs": [
    {
     "data": {
      "text/html": [
       "<div>\n",
       "<style scoped>\n",
       "    .dataframe tbody tr th:only-of-type {\n",
       "        vertical-align: middle;\n",
       "    }\n",
       "\n",
       "    .dataframe tbody tr th {\n",
       "        vertical-align: top;\n",
       "    }\n",
       "\n",
       "    .dataframe thead th {\n",
       "        text-align: right;\n",
       "    }\n",
       "</style>\n",
       "<table border=\"1\" class=\"dataframe\">\n",
       "  <thead>\n",
       "    <tr style=\"text-align: right;\">\n",
       "      <th></th>\n",
       "      <th>CITY</th>\n",
       "      <th>DATE</th>\n",
       "      <th>PRCP</th>\n",
       "      <th>SNOW_DEPTH</th>\n",
       "      <th>AVG_TEMP</th>\n",
       "      <th>MAX_TEMP</th>\n",
       "      <th>MIN_TEMP</th>\n",
       "    </tr>\n",
       "  </thead>\n",
       "  <tbody>\n",
       "    <tr>\n",
       "      <th>0</th>\n",
       "      <td>TORONTO CITY, ON CA</td>\n",
       "      <td>01/01/2018</td>\n",
       "      <td>0.01</td>\n",
       "      <td>4.3</td>\n",
       "      <td>8.0</td>\n",
       "      <td>18.0</td>\n",
       "      <td>-1.0</td>\n",
       "    </tr>\n",
       "    <tr>\n",
       "      <th>1</th>\n",
       "      <td>TORONTO CITY, ON CA</td>\n",
       "      <td>01/02/2018</td>\n",
       "      <td>0.00</td>\n",
       "      <td>3.5</td>\n",
       "      <td>14.0</td>\n",
       "      <td>19.0</td>\n",
       "      <td>9.0</td>\n",
       "    </tr>\n",
       "    <tr>\n",
       "      <th>2</th>\n",
       "      <td>TORONTO CITY, ON CA</td>\n",
       "      <td>01/03/2018</td>\n",
       "      <td>0.01</td>\n",
       "      <td>4.3</td>\n",
       "      <td>17.0</td>\n",
       "      <td>22.0</td>\n",
       "      <td>12.0</td>\n",
       "    </tr>\n",
       "    <tr>\n",
       "      <th>3</th>\n",
       "      <td>TORONTO CITY, ON CA</td>\n",
       "      <td>01/04/2018</td>\n",
       "      <td>0.01</td>\n",
       "      <td>4.3</td>\n",
       "      <td>7.0</td>\n",
       "      <td>18.0</td>\n",
       "      <td>-3.0</td>\n",
       "    </tr>\n",
       "    <tr>\n",
       "      <th>4</th>\n",
       "      <td>TORONTO CITY, ON CA</td>\n",
       "      <td>01/05/2018</td>\n",
       "      <td>0.00</td>\n",
       "      <td>3.9</td>\n",
       "      <td>0.0</td>\n",
       "      <td>6.0</td>\n",
       "      <td>-5.0</td>\n",
       "    </tr>\n",
       "  </tbody>\n",
       "</table>\n",
       "</div>"
      ],
      "text/plain": [
       "                  CITY        DATE  PRCP  SNOW_DEPTH  AVG_TEMP  MAX_TEMP  \\\n",
       "0  TORONTO CITY, ON CA  01/01/2018  0.01         4.3       8.0      18.0   \n",
       "1  TORONTO CITY, ON CA  01/02/2018  0.00         3.5      14.0      19.0   \n",
       "2  TORONTO CITY, ON CA  01/03/2018  0.01         4.3      17.0      22.0   \n",
       "3  TORONTO CITY, ON CA  01/04/2018  0.01         4.3       7.0      18.0   \n",
       "4  TORONTO CITY, ON CA  01/05/2018  0.00         3.9       0.0       6.0   \n",
       "\n",
       "   MIN_TEMP  \n",
       "0      -1.0  \n",
       "1       9.0  \n",
       "2      12.0  \n",
       "3      -3.0  \n",
       "4      -5.0  "
      ]
     },
     "execution_count": 12,
     "metadata": {},
     "output_type": "execute_result"
    }
   ],
   "source": [
    "weather.head()"
   ]
  },
  {
   "cell_type": "code",
   "execution_count": 16,
   "id": "e8f31825",
   "metadata": {},
   "outputs": [],
   "source": [
    "# create copy of df for transforming\n",
    "weather_transformed = weather.copy()"
   ]
  },
  {
   "cell_type": "code",
   "execution_count": 22,
   "id": "a9986572",
   "metadata": {},
   "outputs": [],
   "source": [
    "# rename columns to match SQL table schema\n",
    "weather_transformed = weather_transformed.rename(columns={\"CITY\": \"city\",\n",
    "                                                         \"DATE\": \"date_\",\n",
    "                                                         \"PRCP\": \"prcp\",\n",
    "                                                         \"SNOW_DEPTH\": \"snow_depth\",\n",
    "                                                         \"AVG_TEMP\":\"avg_temp\",\n",
    "                                                         \"MAX_TEMP\":\"max_temp\",\n",
    "                                                         \"MIN_TEMP\":\"min_temp\"})"
   ]
  },
  {
   "cell_type": "code",
   "execution_count": 23,
   "id": "2c5ddd38",
   "metadata": {},
   "outputs": [
    {
     "data": {
      "text/html": [
       "<div>\n",
       "<style scoped>\n",
       "    .dataframe tbody tr th:only-of-type {\n",
       "        vertical-align: middle;\n",
       "    }\n",
       "\n",
       "    .dataframe tbody tr th {\n",
       "        vertical-align: top;\n",
       "    }\n",
       "\n",
       "    .dataframe thead th {\n",
       "        text-align: right;\n",
       "    }\n",
       "</style>\n",
       "<table border=\"1\" class=\"dataframe\">\n",
       "  <thead>\n",
       "    <tr style=\"text-align: right;\">\n",
       "      <th></th>\n",
       "      <th>city</th>\n",
       "      <th>date_</th>\n",
       "      <th>prcp</th>\n",
       "      <th>snow_depth</th>\n",
       "      <th>avg_temp</th>\n",
       "      <th>max_temp</th>\n",
       "      <th>min_temp</th>\n",
       "    </tr>\n",
       "  </thead>\n",
       "  <tbody>\n",
       "    <tr>\n",
       "      <th>0</th>\n",
       "      <td>TORONTO CITY, ON CA</td>\n",
       "      <td>01/01/2018</td>\n",
       "      <td>0.01</td>\n",
       "      <td>4.3</td>\n",
       "      <td>8.0</td>\n",
       "      <td>18.0</td>\n",
       "      <td>-1.0</td>\n",
       "    </tr>\n",
       "    <tr>\n",
       "      <th>1</th>\n",
       "      <td>TORONTO CITY, ON CA</td>\n",
       "      <td>01/02/2018</td>\n",
       "      <td>0.00</td>\n",
       "      <td>3.5</td>\n",
       "      <td>14.0</td>\n",
       "      <td>19.0</td>\n",
       "      <td>9.0</td>\n",
       "    </tr>\n",
       "    <tr>\n",
       "      <th>2</th>\n",
       "      <td>TORONTO CITY, ON CA</td>\n",
       "      <td>01/03/2018</td>\n",
       "      <td>0.01</td>\n",
       "      <td>4.3</td>\n",
       "      <td>17.0</td>\n",
       "      <td>22.0</td>\n",
       "      <td>12.0</td>\n",
       "    </tr>\n",
       "    <tr>\n",
       "      <th>3</th>\n",
       "      <td>TORONTO CITY, ON CA</td>\n",
       "      <td>01/04/2018</td>\n",
       "      <td>0.01</td>\n",
       "      <td>4.3</td>\n",
       "      <td>7.0</td>\n",
       "      <td>18.0</td>\n",
       "      <td>-3.0</td>\n",
       "    </tr>\n",
       "    <tr>\n",
       "      <th>4</th>\n",
       "      <td>TORONTO CITY, ON CA</td>\n",
       "      <td>01/05/2018</td>\n",
       "      <td>0.00</td>\n",
       "      <td>3.9</td>\n",
       "      <td>0.0</td>\n",
       "      <td>6.0</td>\n",
       "      <td>-5.0</td>\n",
       "    </tr>\n",
       "  </tbody>\n",
       "</table>\n",
       "</div>"
      ],
      "text/plain": [
       "                  city       date_  prcp  snow_depth  avg_temp  max_temp  \\\n",
       "0  TORONTO CITY, ON CA  01/01/2018  0.01         4.3       8.0      18.0   \n",
       "1  TORONTO CITY, ON CA  01/02/2018  0.00         3.5      14.0      19.0   \n",
       "2  TORONTO CITY, ON CA  01/03/2018  0.01         4.3      17.0      22.0   \n",
       "3  TORONTO CITY, ON CA  01/04/2018  0.01         4.3       7.0      18.0   \n",
       "4  TORONTO CITY, ON CA  01/05/2018  0.00         3.9       0.0       6.0   \n",
       "\n",
       "   min_temp  \n",
       "0      -1.0  \n",
       "1       9.0  \n",
       "2      12.0  \n",
       "3      -3.0  \n",
       "4      -5.0  "
      ]
     },
     "execution_count": 23,
     "metadata": {},
     "output_type": "execute_result"
    }
   ],
   "source": [
    "weather_transformed.head()"
   ]
  },
  {
   "cell_type": "code",
   "execution_count": 27,
   "id": "b41583c4",
   "metadata": {},
   "outputs": [],
   "source": [
    "# transform date column to datetime for later merging\n",
    "weather_transformed['date_'] = pd.to_datetime(weather_transformed['date_'])"
   ]
  },
  {
   "cell_type": "code",
   "execution_count": 28,
   "id": "0f9a7abb",
   "metadata": {},
   "outputs": [
    {
     "data": {
      "text/html": [
       "<div>\n",
       "<style scoped>\n",
       "    .dataframe tbody tr th:only-of-type {\n",
       "        vertical-align: middle;\n",
       "    }\n",
       "\n",
       "    .dataframe tbody tr th {\n",
       "        vertical-align: top;\n",
       "    }\n",
       "\n",
       "    .dataframe thead th {\n",
       "        text-align: right;\n",
       "    }\n",
       "</style>\n",
       "<table border=\"1\" class=\"dataframe\">\n",
       "  <thead>\n",
       "    <tr style=\"text-align: right;\">\n",
       "      <th></th>\n",
       "      <th>city</th>\n",
       "      <th>date_</th>\n",
       "      <th>prcp</th>\n",
       "      <th>snow_depth</th>\n",
       "      <th>avg_temp</th>\n",
       "      <th>max_temp</th>\n",
       "      <th>min_temp</th>\n",
       "    </tr>\n",
       "  </thead>\n",
       "  <tbody>\n",
       "    <tr>\n",
       "      <th>0</th>\n",
       "      <td>TORONTO CITY, ON CA</td>\n",
       "      <td>2018-01-01</td>\n",
       "      <td>0.01</td>\n",
       "      <td>4.3</td>\n",
       "      <td>8.0</td>\n",
       "      <td>18.0</td>\n",
       "      <td>-1.0</td>\n",
       "    </tr>\n",
       "    <tr>\n",
       "      <th>1</th>\n",
       "      <td>TORONTO CITY, ON CA</td>\n",
       "      <td>2018-01-02</td>\n",
       "      <td>0.00</td>\n",
       "      <td>3.5</td>\n",
       "      <td>14.0</td>\n",
       "      <td>19.0</td>\n",
       "      <td>9.0</td>\n",
       "    </tr>\n",
       "    <tr>\n",
       "      <th>2</th>\n",
       "      <td>TORONTO CITY, ON CA</td>\n",
       "      <td>2018-01-03</td>\n",
       "      <td>0.01</td>\n",
       "      <td>4.3</td>\n",
       "      <td>17.0</td>\n",
       "      <td>22.0</td>\n",
       "      <td>12.0</td>\n",
       "    </tr>\n",
       "    <tr>\n",
       "      <th>3</th>\n",
       "      <td>TORONTO CITY, ON CA</td>\n",
       "      <td>2018-01-04</td>\n",
       "      <td>0.01</td>\n",
       "      <td>4.3</td>\n",
       "      <td>7.0</td>\n",
       "      <td>18.0</td>\n",
       "      <td>-3.0</td>\n",
       "    </tr>\n",
       "    <tr>\n",
       "      <th>4</th>\n",
       "      <td>TORONTO CITY, ON CA</td>\n",
       "      <td>2018-01-05</td>\n",
       "      <td>0.00</td>\n",
       "      <td>3.9</td>\n",
       "      <td>0.0</td>\n",
       "      <td>6.0</td>\n",
       "      <td>-5.0</td>\n",
       "    </tr>\n",
       "  </tbody>\n",
       "</table>\n",
       "</div>"
      ],
      "text/plain": [
       "                  city      date_  prcp  snow_depth  avg_temp  max_temp  \\\n",
       "0  TORONTO CITY, ON CA 2018-01-01  0.01         4.3       8.0      18.0   \n",
       "1  TORONTO CITY, ON CA 2018-01-02  0.00         3.5      14.0      19.0   \n",
       "2  TORONTO CITY, ON CA 2018-01-03  0.01         4.3      17.0      22.0   \n",
       "3  TORONTO CITY, ON CA 2018-01-04  0.01         4.3       7.0      18.0   \n",
       "4  TORONTO CITY, ON CA 2018-01-05  0.00         3.9       0.0       6.0   \n",
       "\n",
       "   min_temp  \n",
       "0      -1.0  \n",
       "1       9.0  \n",
       "2      12.0  \n",
       "3      -3.0  \n",
       "4      -5.0  "
      ]
     },
     "execution_count": 28,
     "metadata": {},
     "output_type": "execute_result"
    }
   ],
   "source": [
    "weather_transformed.head()"
   ]
  },
  {
   "cell_type": "code",
   "execution_count": 30,
   "id": "5b406119",
   "metadata": {},
   "outputs": [],
   "source": [
    "# add weather df to SQL weather table\n",
    "weather_transformed.to_sql(name = 'weather', con=engine, if_exists='replace', index = False)"
   ]
  },
  {
   "cell_type": "code",
   "execution_count": 25,
   "id": "3cde83c1",
   "metadata": {},
   "outputs": [],
   "source": [
    "# set path and read csv into df\n",
    "path = \"Resources/bikeshare_clean.csv\"\n",
    "bikeshare = pd.read_csv(path)"
   ]
  },
  {
   "cell_type": "code",
   "execution_count": 26,
   "id": "6144703c",
   "metadata": {},
   "outputs": [
    {
     "data": {
      "text/html": [
       "<div>\n",
       "<style scoped>\n",
       "    .dataframe tbody tr th:only-of-type {\n",
       "        vertical-align: middle;\n",
       "    }\n",
       "\n",
       "    .dataframe tbody tr th {\n",
       "        vertical-align: top;\n",
       "    }\n",
       "\n",
       "    .dataframe thead th {\n",
       "        text-align: right;\n",
       "    }\n",
       "</style>\n",
       "<table border=\"1\" class=\"dataframe\">\n",
       "  <thead>\n",
       "    <tr style=\"text-align: right;\">\n",
       "      <th></th>\n",
       "      <th>trip_id</th>\n",
       "      <th>trip_duration_seconds</th>\n",
       "      <th>date</th>\n",
       "    </tr>\n",
       "  </thead>\n",
       "  <tbody>\n",
       "    <tr>\n",
       "      <th>0</th>\n",
       "      <td>2383648</td>\n",
       "      <td>393</td>\n",
       "      <td>2018-01-01</td>\n",
       "    </tr>\n",
       "    <tr>\n",
       "      <th>1</th>\n",
       "      <td>2383649</td>\n",
       "      <td>625</td>\n",
       "      <td>2018-01-01</td>\n",
       "    </tr>\n",
       "    <tr>\n",
       "      <th>2</th>\n",
       "      <td>2383650</td>\n",
       "      <td>233</td>\n",
       "      <td>2018-01-01</td>\n",
       "    </tr>\n",
       "    <tr>\n",
       "      <th>3</th>\n",
       "      <td>2383651</td>\n",
       "      <td>1138</td>\n",
       "      <td>2018-01-01</td>\n",
       "    </tr>\n",
       "    <tr>\n",
       "      <th>4</th>\n",
       "      <td>2383652</td>\n",
       "      <td>703</td>\n",
       "      <td>2018-01-01</td>\n",
       "    </tr>\n",
       "  </tbody>\n",
       "</table>\n",
       "</div>"
      ],
      "text/plain": [
       "   trip_id  trip_duration_seconds        date\n",
       "0  2383648                    393  2018-01-01\n",
       "1  2383649                    625  2018-01-01\n",
       "2  2383650                    233  2018-01-01\n",
       "3  2383651                   1138  2018-01-01\n",
       "4  2383652                    703  2018-01-01"
      ]
     },
     "execution_count": 26,
     "metadata": {},
     "output_type": "execute_result"
    }
   ],
   "source": [
    "bikeshare.head()"
   ]
  },
  {
   "cell_type": "code",
   "execution_count": 31,
   "id": "f8c87770",
   "metadata": {},
   "outputs": [],
   "source": [
    "# create copy for transforming\n",
    "bikeshare_transformed = bikeshare.copy()"
   ]
  },
  {
   "cell_type": "code",
   "execution_count": 34,
   "id": "f4d87fc0",
   "metadata": {},
   "outputs": [],
   "source": [
    "# rename columns to match SQL table schema\n",
    "bikeshare_transformed = bikeshare_transformed.rename(columns = {\"trip_id\":\"trip_id\",\n",
    "                                                                \"trip_duration_seconds\":\"trip_duration_seconds\",\n",
    "                                                                \"date\":\"date_\"    \n",
    "})"
   ]
  },
  {
   "cell_type": "code",
   "execution_count": 35,
   "id": "99502c7e",
   "metadata": {},
   "outputs": [
    {
     "data": {
      "text/html": [
       "<div>\n",
       "<style scoped>\n",
       "    .dataframe tbody tr th:only-of-type {\n",
       "        vertical-align: middle;\n",
       "    }\n",
       "\n",
       "    .dataframe tbody tr th {\n",
       "        vertical-align: top;\n",
       "    }\n",
       "\n",
       "    .dataframe thead th {\n",
       "        text-align: right;\n",
       "    }\n",
       "</style>\n",
       "<table border=\"1\" class=\"dataframe\">\n",
       "  <thead>\n",
       "    <tr style=\"text-align: right;\">\n",
       "      <th></th>\n",
       "      <th>trip_id</th>\n",
       "      <th>trip_duration_seconds</th>\n",
       "      <th>date_</th>\n",
       "    </tr>\n",
       "  </thead>\n",
       "  <tbody>\n",
       "    <tr>\n",
       "      <th>0</th>\n",
       "      <td>2383648</td>\n",
       "      <td>393</td>\n",
       "      <td>2018-01-01</td>\n",
       "    </tr>\n",
       "    <tr>\n",
       "      <th>1</th>\n",
       "      <td>2383649</td>\n",
       "      <td>625</td>\n",
       "      <td>2018-01-01</td>\n",
       "    </tr>\n",
       "    <tr>\n",
       "      <th>2</th>\n",
       "      <td>2383650</td>\n",
       "      <td>233</td>\n",
       "      <td>2018-01-01</td>\n",
       "    </tr>\n",
       "    <tr>\n",
       "      <th>3</th>\n",
       "      <td>2383651</td>\n",
       "      <td>1138</td>\n",
       "      <td>2018-01-01</td>\n",
       "    </tr>\n",
       "    <tr>\n",
       "      <th>4</th>\n",
       "      <td>2383652</td>\n",
       "      <td>703</td>\n",
       "      <td>2018-01-01</td>\n",
       "    </tr>\n",
       "  </tbody>\n",
       "</table>\n",
       "</div>"
      ],
      "text/plain": [
       "   trip_id  trip_duration_seconds       date_\n",
       "0  2383648                    393  2018-01-01\n",
       "1  2383649                    625  2018-01-01\n",
       "2  2383650                    233  2018-01-01\n",
       "3  2383651                   1138  2018-01-01\n",
       "4  2383652                    703  2018-01-01"
      ]
     },
     "execution_count": 35,
     "metadata": {},
     "output_type": "execute_result"
    }
   ],
   "source": [
    "bikeshare_transformed.head()"
   ]
  },
  {
   "cell_type": "code",
   "execution_count": 36,
   "id": "095b12a4",
   "metadata": {},
   "outputs": [],
   "source": [
    "# add bikeshare df to SQL bikeshare table\n",
    "bikeshare_transformed.to_sql(name = 'bikeshare', con=engine, if_exists='replace', index = False)"
   ]
  }
 ],
 "metadata": {
  "kernelspec": {
   "display_name": "PythonData",
   "language": "python",
   "name": "pythondata"
  },
  "language_info": {
   "codemirror_mode": {
    "name": "ipython",
    "version": 3
   },
   "file_extension": ".py",
   "mimetype": "text/x-python",
   "name": "python",
   "nbconvert_exporter": "python",
   "pygments_lexer": "ipython3",
   "version": "3.7.7"
  }
 },
 "nbformat": 4,
 "nbformat_minor": 5
}
