{
 "cells": [
  {
   "cell_type": "code",
   "execution_count": 1,
   "id": "4210a3ee",
   "metadata": {},
   "outputs": [],
   "source": [
    "import pandas as pd\n",
    "from sqlalchemy import create_engine\n",
    "pd.set_option(\"display.max_rows\", None)"
   ]
  },
  {
   "cell_type": "code",
   "execution_count": null,
   "id": "547632ee",
   "metadata": {},
   "outputs": [],
   "source": [
    "csv_file = \"Resources/Bike Share Toronto Ridership_Q1 2018.csv\"\n",
    "biker_data_df = pd.read_csv(csv_file)\n",
    "biker_data_df.head()"
   ]
  },
  {
   "cell_type": "code",
   "execution_count": 9,
   "id": "8de2d218",
   "metadata": {},
   "outputs": [
    {
     "data": {
      "text/html": [
       "<div>\n",
       "<style scoped>\n",
       "    .dataframe tbody tr th:only-of-type {\n",
       "        vertical-align: middle;\n",
       "    }\n",
       "\n",
       "    .dataframe tbody tr th {\n",
       "        vertical-align: top;\n",
       "    }\n",
       "\n",
       "    .dataframe thead th {\n",
       "        text-align: right;\n",
       "    }\n",
       "</style>\n",
       "<table border=\"1\" class=\"dataframe\">\n",
       "  <thead>\n",
       "    <tr style=\"text-align: right;\">\n",
       "      <th></th>\n",
       "      <th>trip_id</th>\n",
       "      <th>trip_duration_seconds</th>\n",
       "      <th>from_station_id</th>\n",
       "      <th>trip_start_time</th>\n",
       "      <th>from_station_name</th>\n",
       "      <th>trip_stop_time</th>\n",
       "      <th>to_station_id</th>\n",
       "      <th>to_station_name</th>\n",
       "      <th>user_type</th>\n",
       "    </tr>\n",
       "  </thead>\n",
       "  <tbody>\n",
       "    <tr>\n",
       "      <th>1922952</th>\n",
       "      <td>4581275</td>\n",
       "      <td>340</td>\n",
       "      <td>7020</td>\n",
       "      <td>12/31/2018 23:49</td>\n",
       "      <td>Phoebe St / Spadina Ave</td>\n",
       "      <td>12/31/2018 23:55</td>\n",
       "      <td>7000</td>\n",
       "      <td>Fort York  Blvd / Capreol Ct</td>\n",
       "      <td>Annual Member</td>\n",
       "    </tr>\n",
       "    <tr>\n",
       "      <th>1922953</th>\n",
       "      <td>4581276</td>\n",
       "      <td>1466</td>\n",
       "      <td>7014</td>\n",
       "      <td>12/31/2018 23:52</td>\n",
       "      <td>Sherbourne St / Carlton St (Allan Gardens)</td>\n",
       "      <td>1/1/2019 0:17</td>\n",
       "      <td>7269</td>\n",
       "      <td>Toronto Eaton Centre (Yonge St)</td>\n",
       "      <td>Annual Member</td>\n",
       "    </tr>\n",
       "    <tr>\n",
       "      <th>1922954</th>\n",
       "      <td>4581277</td>\n",
       "      <td>333</td>\n",
       "      <td>7299</td>\n",
       "      <td>12/31/2018 23:58</td>\n",
       "      <td>Mill St / Parliament St</td>\n",
       "      <td>1/1/2019 0:04</td>\n",
       "      <td>7013</td>\n",
       "      <td>Scott St / The Esplanade</td>\n",
       "      <td>Annual Member</td>\n",
       "    </tr>\n",
       "  </tbody>\n",
       "</table>\n",
       "</div>"
      ],
      "text/plain": [
       "         trip_id  trip_duration_seconds  from_station_id   trip_start_time  \\\n",
       "1922952  4581275                    340             7020  12/31/2018 23:49   \n",
       "1922953  4581276                   1466             7014  12/31/2018 23:52   \n",
       "1922954  4581277                    333             7299  12/31/2018 23:58   \n",
       "\n",
       "                                  from_station_name    trip_stop_time  \\\n",
       "1922952                     Phoebe St / Spadina Ave  12/31/2018 23:55   \n",
       "1922953  Sherbourne St / Carlton St (Allan Gardens)     1/1/2019 0:17   \n",
       "1922954                     Mill St / Parliament St     1/1/2019 0:04   \n",
       "\n",
       "         to_station_id                  to_station_name      user_type  \n",
       "1922952           7000     Fort York  Blvd / Capreol Ct  Annual Member  \n",
       "1922953           7269  Toronto Eaton Centre (Yonge St)  Annual Member  \n",
       "1922954           7013         Scott St / The Esplanade  Annual Member  "
      ]
     },
     "execution_count": 9,
     "metadata": {},
     "output_type": "execute_result"
    }
   ],
   "source": [
    "df = pd.concat(map(pd.read_csv, ['Resources/Bike Share Toronto Ridership_Q1 2018.csv', 'Resources/Bike Share Toronto Ridership_Q2 2018.csv','Resources/Bike Share Toronto Ridership_Q3 2018.csv', 'Resources/Bike Share Toronto Ridership_Q4 2018.csv']), ignore_index=True)\n",
    "df.tail(3)"
   ]
  },
  {
   "cell_type": "code",
   "execution_count": 12,
   "id": "8ce6804e",
   "metadata": {},
   "outputs": [
    {
     "data": {
      "text/plain": [
       "pandas.core.frame.DataFrame"
      ]
     },
     "execution_count": 12,
     "metadata": {},
     "output_type": "execute_result"
    }
   ],
   "source": [
    "df"
   ]
  },
  {
   "cell_type": "code",
   "execution_count": null,
   "id": "31508623",
   "metadata": {},
   "outputs": [],
   "source": []
  }
 ],
 "metadata": {
  "kernelspec": {
   "display_name": "Python 3 (ipykernel)",
   "language": "python",
   "name": "python3"
  },
  "language_info": {
   "codemirror_mode": {
    "name": "ipython",
    "version": 3
   },
   "file_extension": ".py",
   "mimetype": "text/x-python",
   "name": "python",
   "nbconvert_exporter": "python",
   "pygments_lexer": "ipython3",
   "version": "3.9.12"
  }
 },
 "nbformat": 4,
 "nbformat_minor": 5
}
